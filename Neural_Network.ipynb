{
 "cells": [
  {
   "cell_type": "markdown",
   "metadata": {},
   "source": [
    "# Exoplanet status prediction using Neural Networks\n",
    "\n",
    "Data column meanings:\n",
    "https://exoplanetarchive.ipac.caltech.edu/docs/API_kepcandidate_columns.html#proj_disp_col\n",
    "* koi_disposition:\n",
    "    * CANDIDATE: A planetary candidate has passed all prior tests conducted to identify false positives, although this does not a priori mean that all possible tests have been conducted. A future test may confirm this KOI as a false positive.\n",
    "    \n",
    "    * FALSE POSITIVE: A false positive has failed at least one of the tests described in Batalha et al. (2012).\n",
    "    \n",
    "    * CONFIRMED: Cleary an exoplanet\n",
    "    \n",
    "A planetary candidate has passed all prior tests conducted to identify false positives, although this does not a priori mean that all possible tests have been conducted. A future test may confirm this KOI as a false positive. False positives can occur when: 1) the KOI is in reality an eclipsing binary star, 2) the Kepler light curve is contaminated by a background eclipsing binary, 3) stellar variability is confused for coherent planetary transits, or 4) instrumental artifacts are confused for coherent planetary transits."
   ]
  },
  {
   "cell_type": "code",
   "execution_count": 1,
   "metadata": {},
   "outputs": [],
   "source": [
    "\n",
    "\n",
    "import pandas as pd\n",
    "import numpy as np\n",
    "\n",
    "from sklearn.model_selection import train_test_split\n",
    "from sklearn.preprocessing import MinMaxScaler\n",
    "from sklearn.neural_network import MLPClassifier\n",
    "from sklearn.model_selection import GridSearchCV\n",
    "\n",
    "import matplotlib.pyplot as plt"
   ]
  },
  {
   "cell_type": "code",
   "execution_count": 2,
   "metadata": {},
   "outputs": [],
   "source": [
    "exoplanet_data = pd.read_csv(\"exoplanet_data.csv\")\n",
    "\n",
    "# Drop the null rows\n",
    "exoplanet_data = exoplanet_data.dropna()\n",
    "\n",
    "#Create new DataFrame for candidate expoplanets\n",
    "#candidate_exoplanets = exoplanet_data[exoplanet_data['koi_disposition'] == 'CANDIDATE']\n",
    "\n",
    "# Filter out the planets labeled as candidates\n",
    "#exoplanet_data = exoplanet_data[exoplanet_data['koi_disposition'] != 'CANDIDATE']\n"
   ]
  },
  {
   "cell_type": "code",
   "execution_count": 3,
   "metadata": {},
   "outputs": [
    {
     "data": {
      "text/html": [
       "<div>\n",
       "<style scoped>\n",
       "    .dataframe tbody tr th:only-of-type {\n",
       "        vertical-align: middle;\n",
       "    }\n",
       "\n",
       "    .dataframe tbody tr th {\n",
       "        vertical-align: top;\n",
       "    }\n",
       "\n",
       "    .dataframe thead th {\n",
       "        text-align: right;\n",
       "    }\n",
       "</style>\n",
       "<table border=\"1\" class=\"dataframe\">\n",
       "  <thead>\n",
       "    <tr style=\"text-align: right;\">\n",
       "      <th></th>\n",
       "      <th>koi_disposition</th>\n",
       "      <th>koi_fpflag_nt</th>\n",
       "      <th>koi_fpflag_ss</th>\n",
       "      <th>koi_fpflag_co</th>\n",
       "      <th>koi_fpflag_ec</th>\n",
       "      <th>koi_period</th>\n",
       "      <th>koi_period_err1</th>\n",
       "      <th>koi_period_err2</th>\n",
       "      <th>koi_time0bk</th>\n",
       "      <th>koi_time0bk_err1</th>\n",
       "      <th>...</th>\n",
       "      <th>koi_steff_err2</th>\n",
       "      <th>koi_slogg</th>\n",
       "      <th>koi_slogg_err1</th>\n",
       "      <th>koi_slogg_err2</th>\n",
       "      <th>koi_srad</th>\n",
       "      <th>koi_srad_err1</th>\n",
       "      <th>koi_srad_err2</th>\n",
       "      <th>ra</th>\n",
       "      <th>dec</th>\n",
       "      <th>koi_kepmag</th>\n",
       "    </tr>\n",
       "  </thead>\n",
       "  <tbody>\n",
       "    <tr>\n",
       "      <td>0</td>\n",
       "      <td>CONFIRMED</td>\n",
       "      <td>0</td>\n",
       "      <td>0</td>\n",
       "      <td>0</td>\n",
       "      <td>0</td>\n",
       "      <td>54.418383</td>\n",
       "      <td>2.479000e-04</td>\n",
       "      <td>-2.479000e-04</td>\n",
       "      <td>162.513840</td>\n",
       "      <td>0.003520</td>\n",
       "      <td>...</td>\n",
       "      <td>-81</td>\n",
       "      <td>4.467</td>\n",
       "      <td>0.064</td>\n",
       "      <td>-0.096</td>\n",
       "      <td>0.927</td>\n",
       "      <td>0.105</td>\n",
       "      <td>-0.061</td>\n",
       "      <td>291.93423</td>\n",
       "      <td>48.141651</td>\n",
       "      <td>15.347</td>\n",
       "    </tr>\n",
       "    <tr>\n",
       "      <td>1</td>\n",
       "      <td>FALSE POSITIVE</td>\n",
       "      <td>0</td>\n",
       "      <td>1</td>\n",
       "      <td>0</td>\n",
       "      <td>0</td>\n",
       "      <td>19.899140</td>\n",
       "      <td>1.490000e-05</td>\n",
       "      <td>-1.490000e-05</td>\n",
       "      <td>175.850252</td>\n",
       "      <td>0.000581</td>\n",
       "      <td>...</td>\n",
       "      <td>-176</td>\n",
       "      <td>4.544</td>\n",
       "      <td>0.044</td>\n",
       "      <td>-0.176</td>\n",
       "      <td>0.868</td>\n",
       "      <td>0.233</td>\n",
       "      <td>-0.078</td>\n",
       "      <td>297.00482</td>\n",
       "      <td>48.134129</td>\n",
       "      <td>15.436</td>\n",
       "    </tr>\n",
       "    <tr>\n",
       "      <td>2</td>\n",
       "      <td>FALSE POSITIVE</td>\n",
       "      <td>0</td>\n",
       "      <td>1</td>\n",
       "      <td>0</td>\n",
       "      <td>0</td>\n",
       "      <td>1.736952</td>\n",
       "      <td>2.630000e-07</td>\n",
       "      <td>-2.630000e-07</td>\n",
       "      <td>170.307565</td>\n",
       "      <td>0.000115</td>\n",
       "      <td>...</td>\n",
       "      <td>-174</td>\n",
       "      <td>4.564</td>\n",
       "      <td>0.053</td>\n",
       "      <td>-0.168</td>\n",
       "      <td>0.791</td>\n",
       "      <td>0.201</td>\n",
       "      <td>-0.067</td>\n",
       "      <td>285.53461</td>\n",
       "      <td>48.285210</td>\n",
       "      <td>15.597</td>\n",
       "    </tr>\n",
       "    <tr>\n",
       "      <td>3</td>\n",
       "      <td>CONFIRMED</td>\n",
       "      <td>0</td>\n",
       "      <td>0</td>\n",
       "      <td>0</td>\n",
       "      <td>0</td>\n",
       "      <td>2.525592</td>\n",
       "      <td>3.760000e-06</td>\n",
       "      <td>-3.760000e-06</td>\n",
       "      <td>171.595550</td>\n",
       "      <td>0.001130</td>\n",
       "      <td>...</td>\n",
       "      <td>-211</td>\n",
       "      <td>4.438</td>\n",
       "      <td>0.070</td>\n",
       "      <td>-0.210</td>\n",
       "      <td>1.046</td>\n",
       "      <td>0.334</td>\n",
       "      <td>-0.133</td>\n",
       "      <td>288.75488</td>\n",
       "      <td>48.226200</td>\n",
       "      <td>15.509</td>\n",
       "    </tr>\n",
       "    <tr>\n",
       "      <td>4</td>\n",
       "      <td>CONFIRMED</td>\n",
       "      <td>0</td>\n",
       "      <td>0</td>\n",
       "      <td>0</td>\n",
       "      <td>0</td>\n",
       "      <td>4.134435</td>\n",
       "      <td>1.050000e-05</td>\n",
       "      <td>-1.050000e-05</td>\n",
       "      <td>172.979370</td>\n",
       "      <td>0.001900</td>\n",
       "      <td>...</td>\n",
       "      <td>-232</td>\n",
       "      <td>4.486</td>\n",
       "      <td>0.054</td>\n",
       "      <td>-0.229</td>\n",
       "      <td>0.972</td>\n",
       "      <td>0.315</td>\n",
       "      <td>-0.105</td>\n",
       "      <td>296.28613</td>\n",
       "      <td>48.224670</td>\n",
       "      <td>15.714</td>\n",
       "    </tr>\n",
       "  </tbody>\n",
       "</table>\n",
       "<p>5 rows × 41 columns</p>\n",
       "</div>"
      ],
      "text/plain": [
       "  koi_disposition  koi_fpflag_nt  koi_fpflag_ss  koi_fpflag_co  koi_fpflag_ec  \\\n",
       "0       CONFIRMED              0              0              0              0   \n",
       "1  FALSE POSITIVE              0              1              0              0   \n",
       "2  FALSE POSITIVE              0              1              0              0   \n",
       "3       CONFIRMED              0              0              0              0   \n",
       "4       CONFIRMED              0              0              0              0   \n",
       "\n",
       "   koi_period  koi_period_err1  koi_period_err2  koi_time0bk  \\\n",
       "0   54.418383     2.479000e-04    -2.479000e-04   162.513840   \n",
       "1   19.899140     1.490000e-05    -1.490000e-05   175.850252   \n",
       "2    1.736952     2.630000e-07    -2.630000e-07   170.307565   \n",
       "3    2.525592     3.760000e-06    -3.760000e-06   171.595550   \n",
       "4    4.134435     1.050000e-05    -1.050000e-05   172.979370   \n",
       "\n",
       "   koi_time0bk_err1  ...  koi_steff_err2  koi_slogg  koi_slogg_err1  \\\n",
       "0          0.003520  ...             -81      4.467           0.064   \n",
       "1          0.000581  ...            -176      4.544           0.044   \n",
       "2          0.000115  ...            -174      4.564           0.053   \n",
       "3          0.001130  ...            -211      4.438           0.070   \n",
       "4          0.001900  ...            -232      4.486           0.054   \n",
       "\n",
       "   koi_slogg_err2  koi_srad  koi_srad_err1  koi_srad_err2         ra  \\\n",
       "0          -0.096     0.927          0.105         -0.061  291.93423   \n",
       "1          -0.176     0.868          0.233         -0.078  297.00482   \n",
       "2          -0.168     0.791          0.201         -0.067  285.53461   \n",
       "3          -0.210     1.046          0.334         -0.133  288.75488   \n",
       "4          -0.229     0.972          0.315         -0.105  296.28613   \n",
       "\n",
       "         dec  koi_kepmag  \n",
       "0  48.141651      15.347  \n",
       "1  48.134129      15.436  \n",
       "2  48.285210      15.597  \n",
       "3  48.226200      15.509  \n",
       "4  48.224670      15.714  \n",
       "\n",
       "[5 rows x 41 columns]"
      ]
     },
     "execution_count": 3,
     "metadata": {},
     "output_type": "execute_result"
    }
   ],
   "source": [
    "exoplanet_data.head()"
   ]
  },
  {
   "cell_type": "code",
   "execution_count": 4,
   "metadata": {},
   "outputs": [],
   "source": [
    "# Select from the second column to the last as X\n",
    "X = exoplanet_data.iloc[:, 1:]\n",
    "feature_names = X.columns\n",
    "\n",
    "# Select koi_disposition as y\n",
    "y= exoplanet_data['koi_disposition']"
   ]
  },
  {
   "cell_type": "code",
   "execution_count": 5,
   "metadata": {},
   "outputs": [],
   "source": [
    "# Define scaler object\n",
    "scaler = MinMaxScaler().fit(X)\n",
    "\n",
    "# Scale X\n",
    "X_scaled = scaler.transform(X)\n",
    "\n",
    "#Train test split\n",
    "X_train, X_test, y_train, y_test = train_test_split(X_scaled, y, stratify = y, random_state = 42)"
   ]
  },
  {
   "cell_type": "markdown",
   "metadata": {},
   "source": [
    "## Neural Network training and testing\n",
    "\n",
    "What a neural network does is mostly a mistery, but it is cool to apply it anyway"
   ]
  },
  {
   "cell_type": "code",
   "execution_count": 22,
   "metadata": {},
   "outputs": [
    {
     "name": "stderr",
     "output_type": "stream",
     "text": [
      "C:\\Users\\luisc\\Anaconda3\\lib\\site-packages\\sklearn\\model_selection\\_split.py:1978: FutureWarning: The default value of cv will change from 3 to 5 in version 0.22. Specify it explicitly to silence this warning.\n",
      "  warnings.warn(CV_WARNING, FutureWarning)\n",
      "[Parallel(n_jobs=1)]: Using backend SequentialBackend with 1 concurrent workers.\n"
     ]
    },
    {
     "name": "stdout",
     "output_type": "stream",
     "text": [
      "Fitting 3 folds for each of 12 candidates, totalling 36 fits\n",
      "[CV] activation=tanh, alpha=0.001, hidden_layer_sizes=[50, 50] .......\n",
      "[CV]  activation=tanh, alpha=0.001, hidden_layer_sizes=[50, 50], score=0.875, total=   2.7s\n",
      "[CV] activation=tanh, alpha=0.001, hidden_layer_sizes=[50, 50] .......\n"
     ]
    },
    {
     "name": "stderr",
     "output_type": "stream",
     "text": [
      "[Parallel(n_jobs=1)]: Done   1 out of   1 | elapsed:    2.6s remaining:    0.0s\n"
     ]
    },
    {
     "name": "stdout",
     "output_type": "stream",
     "text": [
      "[CV]  activation=tanh, alpha=0.001, hidden_layer_sizes=[50, 50], score=0.846, total=   2.8s\n",
      "[CV] activation=tanh, alpha=0.001, hidden_layer_sizes=[50, 50] .......\n"
     ]
    },
    {
     "name": "stderr",
     "output_type": "stream",
     "text": [
      "[Parallel(n_jobs=1)]: Done   2 out of   2 | elapsed:    5.4s remaining:    0.0s\n"
     ]
    },
    {
     "name": "stdout",
     "output_type": "stream",
     "text": [
      "[CV]  activation=tanh, alpha=0.001, hidden_layer_sizes=[50, 50], score=0.872, total=   1.7s\n",
      "[CV] activation=tanh, alpha=0.001, hidden_layer_sizes=[60, 60] .......\n",
      "[CV]  activation=tanh, alpha=0.001, hidden_layer_sizes=[60, 60], score=0.884, total=   2.1s\n",
      "[CV] activation=tanh, alpha=0.001, hidden_layer_sizes=[60, 60] .......\n",
      "[CV]  activation=tanh, alpha=0.001, hidden_layer_sizes=[60, 60], score=0.874, total=   2.6s\n",
      "[CV] activation=tanh, alpha=0.001, hidden_layer_sizes=[60, 60] .......\n",
      "[CV]  activation=tanh, alpha=0.001, hidden_layer_sizes=[60, 60], score=0.877, total=   1.7s\n",
      "[CV] activation=tanh, alpha=0.01, hidden_layer_sizes=[50, 50] ........\n",
      "[CV]  activation=tanh, alpha=0.01, hidden_layer_sizes=[50, 50], score=0.874, total=   2.4s\n",
      "[CV] activation=tanh, alpha=0.01, hidden_layer_sizes=[50, 50] ........\n",
      "[CV]  activation=tanh, alpha=0.01, hidden_layer_sizes=[50, 50], score=0.875, total=   3.8s\n",
      "[CV] activation=tanh, alpha=0.01, hidden_layer_sizes=[50, 50] ........\n",
      "[CV]  activation=tanh, alpha=0.01, hidden_layer_sizes=[50, 50], score=0.875, total=   2.5s\n",
      "[CV] activation=tanh, alpha=0.01, hidden_layer_sizes=[60, 60] ........\n",
      "[CV]  activation=tanh, alpha=0.01, hidden_layer_sizes=[60, 60], score=0.874, total=   1.4s\n",
      "[CV] activation=tanh, alpha=0.01, hidden_layer_sizes=[60, 60] ........\n",
      "[CV]  activation=tanh, alpha=0.01, hidden_layer_sizes=[60, 60], score=0.866, total=   1.2s\n",
      "[CV] activation=tanh, alpha=0.01, hidden_layer_sizes=[60, 60] ........\n",
      "[CV]  activation=tanh, alpha=0.01, hidden_layer_sizes=[60, 60], score=0.849, total=   2.0s\n",
      "[CV] activation=tanh, alpha=0.1, hidden_layer_sizes=[50, 50] .........\n",
      "[CV]  activation=tanh, alpha=0.1, hidden_layer_sizes=[50, 50], score=0.876, total=   2.1s\n",
      "[CV] activation=tanh, alpha=0.1, hidden_layer_sizes=[50, 50] .........\n",
      "[CV]  activation=tanh, alpha=0.1, hidden_layer_sizes=[50, 50], score=0.862, total=   2.5s\n",
      "[CV] activation=tanh, alpha=0.1, hidden_layer_sizes=[50, 50] .........\n",
      "[CV]  activation=tanh, alpha=0.1, hidden_layer_sizes=[50, 50], score=0.874, total=   2.0s\n",
      "[CV] activation=tanh, alpha=0.1, hidden_layer_sizes=[60, 60] .........\n",
      "[CV]  activation=tanh, alpha=0.1, hidden_layer_sizes=[60, 60], score=0.874, total=   3.1s\n",
      "[CV] activation=tanh, alpha=0.1, hidden_layer_sizes=[60, 60] .........\n",
      "[CV]  activation=tanh, alpha=0.1, hidden_layer_sizes=[60, 60], score=0.867, total=   2.3s\n",
      "[CV] activation=tanh, alpha=0.1, hidden_layer_sizes=[60, 60] .........\n",
      "[CV]  activation=tanh, alpha=0.1, hidden_layer_sizes=[60, 60], score=0.875, total=   1.4s\n",
      "[CV] activation=relu, alpha=0.001, hidden_layer_sizes=[50, 50] .......\n"
     ]
    },
    {
     "name": "stderr",
     "output_type": "stream",
     "text": [
      "C:\\Users\\luisc\\Anaconda3\\lib\\site-packages\\sklearn\\neural_network\\multilayer_perceptron.py:566: ConvergenceWarning: Stochastic Optimizer: Maximum iterations (200) reached and the optimization hasn't converged yet.\n",
      "  % self.max_iter, ConvergenceWarning)\n"
     ]
    },
    {
     "name": "stdout",
     "output_type": "stream",
     "text": [
      "[CV]  activation=relu, alpha=0.001, hidden_layer_sizes=[50, 50], score=0.880, total=   3.3s\n",
      "[CV] activation=relu, alpha=0.001, hidden_layer_sizes=[50, 50] .......\n",
      "[CV]  activation=relu, alpha=0.001, hidden_layer_sizes=[50, 50], score=0.880, total=   3.1s\n",
      "[CV] activation=relu, alpha=0.001, hidden_layer_sizes=[50, 50] .......\n"
     ]
    },
    {
     "name": "stderr",
     "output_type": "stream",
     "text": [
      "C:\\Users\\luisc\\Anaconda3\\lib\\site-packages\\sklearn\\neural_network\\multilayer_perceptron.py:566: ConvergenceWarning: Stochastic Optimizer: Maximum iterations (200) reached and the optimization hasn't converged yet.\n",
      "  % self.max_iter, ConvergenceWarning)\n"
     ]
    },
    {
     "name": "stdout",
     "output_type": "stream",
     "text": [
      "[CV]  activation=relu, alpha=0.001, hidden_layer_sizes=[50, 50], score=0.879, total=   5.2s\n",
      "[CV] activation=relu, alpha=0.001, hidden_layer_sizes=[60, 60] .......\n",
      "[CV]  activation=relu, alpha=0.001, hidden_layer_sizes=[60, 60], score=0.883, total=   4.1s\n",
      "[CV] activation=relu, alpha=0.001, hidden_layer_sizes=[60, 60] .......\n",
      "[CV]  activation=relu, alpha=0.001, hidden_layer_sizes=[60, 60], score=0.879, total=   2.2s\n",
      "[CV] activation=relu, alpha=0.001, hidden_layer_sizes=[60, 60] .......\n",
      "[CV]  activation=relu, alpha=0.001, hidden_layer_sizes=[60, 60], score=0.885, total=   2.6s\n",
      "[CV] activation=relu, alpha=0.01, hidden_layer_sizes=[50, 50] ........\n",
      "[CV]  activation=relu, alpha=0.01, hidden_layer_sizes=[50, 50], score=0.886, total=   2.7s\n",
      "[CV] activation=relu, alpha=0.01, hidden_layer_sizes=[50, 50] ........\n",
      "[CV]  activation=relu, alpha=0.01, hidden_layer_sizes=[50, 50], score=0.881, total=   2.6s\n",
      "[CV] activation=relu, alpha=0.01, hidden_layer_sizes=[50, 50] ........\n"
     ]
    },
    {
     "name": "stderr",
     "output_type": "stream",
     "text": [
      "C:\\Users\\luisc\\Anaconda3\\lib\\site-packages\\sklearn\\neural_network\\multilayer_perceptron.py:566: ConvergenceWarning: Stochastic Optimizer: Maximum iterations (200) reached and the optimization hasn't converged yet.\n",
      "  % self.max_iter, ConvergenceWarning)\n"
     ]
    },
    {
     "name": "stdout",
     "output_type": "stream",
     "text": [
      "[CV]  activation=relu, alpha=0.01, hidden_layer_sizes=[50, 50], score=0.873, total=   5.3s\n",
      "[CV] activation=relu, alpha=0.01, hidden_layer_sizes=[60, 60] ........\n",
      "[CV]  activation=relu, alpha=0.01, hidden_layer_sizes=[60, 60], score=0.880, total=   3.8s\n",
      "[CV] activation=relu, alpha=0.01, hidden_layer_sizes=[60, 60] ........\n"
     ]
    },
    {
     "name": "stderr",
     "output_type": "stream",
     "text": [
      "C:\\Users\\luisc\\Anaconda3\\lib\\site-packages\\sklearn\\neural_network\\multilayer_perceptron.py:566: ConvergenceWarning: Stochastic Optimizer: Maximum iterations (200) reached and the optimization hasn't converged yet.\n",
      "  % self.max_iter, ConvergenceWarning)\n"
     ]
    },
    {
     "name": "stdout",
     "output_type": "stream",
     "text": [
      "[CV]  activation=relu, alpha=0.01, hidden_layer_sizes=[60, 60], score=0.883, total=   3.5s\n",
      "[CV] activation=relu, alpha=0.01, hidden_layer_sizes=[60, 60] ........\n"
     ]
    },
    {
     "name": "stderr",
     "output_type": "stream",
     "text": [
      "C:\\Users\\luisc\\Anaconda3\\lib\\site-packages\\sklearn\\neural_network\\multilayer_perceptron.py:566: ConvergenceWarning: Stochastic Optimizer: Maximum iterations (200) reached and the optimization hasn't converged yet.\n",
      "  % self.max_iter, ConvergenceWarning)\n"
     ]
    },
    {
     "name": "stdout",
     "output_type": "stream",
     "text": [
      "[CV]  activation=relu, alpha=0.01, hidden_layer_sizes=[60, 60], score=0.882, total=   4.6s\n",
      "[CV] activation=relu, alpha=0.1, hidden_layer_sizes=[50, 50] .........\n",
      "[CV]  activation=relu, alpha=0.1, hidden_layer_sizes=[50, 50], score=0.869, total=   3.2s\n",
      "[CV] activation=relu, alpha=0.1, hidden_layer_sizes=[50, 50] .........\n",
      "[CV]  activation=relu, alpha=0.1, hidden_layer_sizes=[50, 50], score=0.872, total=   2.9s\n",
      "[CV] activation=relu, alpha=0.1, hidden_layer_sizes=[50, 50] .........\n",
      "[CV]  activation=relu, alpha=0.1, hidden_layer_sizes=[50, 50], score=0.871, total=   2.7s\n",
      "[CV] activation=relu, alpha=0.1, hidden_layer_sizes=[60, 60] .........\n",
      "[CV]  activation=relu, alpha=0.1, hidden_layer_sizes=[60, 60], score=0.849, total=   2.7s\n",
      "[CV] activation=relu, alpha=0.1, hidden_layer_sizes=[60, 60] .........\n",
      "[CV]  activation=relu, alpha=0.1, hidden_layer_sizes=[60, 60], score=0.867, total=   4.5s\n",
      "[CV] activation=relu, alpha=0.1, hidden_layer_sizes=[60, 60] .........\n",
      "[CV]  activation=relu, alpha=0.1, hidden_layer_sizes=[60, 60], score=0.880, total=   3.0s\n"
     ]
    },
    {
     "name": "stderr",
     "output_type": "stream",
     "text": [
      "[Parallel(n_jobs=1)]: Done  36 out of  36 | elapsed:  1.7min finished\n"
     ]
    },
    {
     "data": {
      "text/plain": [
       "GridSearchCV(cv='warn', error_score='raise-deprecating',\n",
       "             estimator=MLPClassifier(activation='relu', alpha=0.0001,\n",
       "                                     batch_size='auto', beta_1=0.9,\n",
       "                                     beta_2=0.999, early_stopping=False,\n",
       "                                     epsilon=1e-08, hidden_layer_sizes=(100,),\n",
       "                                     learning_rate='constant',\n",
       "                                     learning_rate_init=0.001, max_iter=200,\n",
       "                                     momentum=0.9, n_iter_no_change=10,\n",
       "                                     nesterovs_momentum=True, power_t=0.5,\n",
       "                                     random_state=None, shuffle=True,\n",
       "                                     solver='adam', tol=0.0001,\n",
       "                                     validation_fraction=0.1, verbose=False,\n",
       "                                     warm_start=False),\n",
       "             iid='warn', n_jobs=None,\n",
       "             param_grid={'activation': ['tanh', 'relu'],\n",
       "                         'alpha': [0.001, 0.01, 0.1],\n",
       "                         'hidden_layer_sizes': [[50, 50], [60, 60]]},\n",
       "             pre_dispatch='2*n_jobs', refit=True, return_train_score=False,\n",
       "             scoring=None, verbose=3)"
      ]
     },
     "execution_count": 22,
     "metadata": {},
     "output_type": "execute_result"
    }
   ],
   "source": [
    "param_grid = {'hidden_layer_sizes': [[50,50], [60,60]],\n",
    "              'alpha':[0.001, 0.01, 0.1],\n",
    "              'activation':['tanh', 'relu']}\n",
    "grid = GridSearchCV(MLPClassifier(), param_grid, verbose=3)\n",
    "\n",
    "# Fit the model using the grid search estimator. \n",
    "# This will take the SVC model and try each combination of parameters\n",
    "grid.fit(X_train, y_train)"
   ]
  },
  {
   "cell_type": "code",
   "execution_count": 24,
   "metadata": {},
   "outputs": [
    {
     "name": "stdout",
     "output_type": "stream",
     "text": [
      "The best parameters to use are:  {'activation': 'relu', 'alpha': 0.001, 'hidden_layer_sizes': [60, 60]}\n"
     ]
    }
   ],
   "source": [
    "print('The best parameters to use are: ', grid.best_params_)"
   ]
  },
  {
   "cell_type": "code",
   "execution_count": 26,
   "metadata": {},
   "outputs": [
    {
     "name": "stdout",
     "output_type": "stream",
     "text": [
      "Training set score: 0.905\n",
      "Test set score: 0.892\n"
     ]
    }
   ],
   "source": [
    "network = MLPClassifier(activation = 'relu', alpha = 0.001, hidden_layer_sizes = [60,60]).fit(X_train, y_train)\n",
    "\n",
    "print('Training set score: {:.3f}'.format(network.score(X_train, y_train)))\n",
    "print('Test set score: {:.3f}'.format(network.score(X_test, y_test)))"
   ]
  },
  {
   "cell_type": "code",
   "execution_count": null,
   "metadata": {},
   "outputs": [],
   "source": []
  }
 ],
 "metadata": {
  "kernelspec": {
   "display_name": "Python 3",
   "language": "python",
   "name": "python3"
  },
  "language_info": {
   "codemirror_mode": {
    "name": "ipython",
    "version": 3
   },
   "file_extension": ".py",
   "mimetype": "text/x-python",
   "name": "python",
   "nbconvert_exporter": "python",
   "pygments_lexer": "ipython3",
   "version": "3.7.4"
  }
 },
 "nbformat": 4,
 "nbformat_minor": 2
}
